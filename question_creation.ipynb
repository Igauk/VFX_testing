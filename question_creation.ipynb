{
 "cells": [
  {
   "cell_type": "code",
   "id": "initial_id",
   "metadata": {
    "collapsed": true,
    "ExecuteTime": {
     "end_time": "2024-11-20T18:29:07.204938Z",
     "start_time": "2024-11-20T18:29:07.200735Z"
    }
   },
   "source": [
    "from dotenv import load_dotenv\n",
    "import os\n",
    "\n",
    "load_dotenv()"
   ],
   "outputs": [
    {
     "data": {
      "text/plain": [
       "True"
      ]
     },
     "execution_count": 72,
     "metadata": {},
     "output_type": "execute_result"
    }
   ],
   "execution_count": 72
  },
  {
   "metadata": {},
   "cell_type": "markdown",
   "source": [
    "### Creating MC questions for VFX captioning\n",
    "Using ChatGPT 4o mini I will create a set of MC questions for each champion ability set."
   ],
   "id": "4c3437ca551d9bda"
  },
  {
   "metadata": {
    "ExecuteTime": {
     "end_time": "2024-11-21T05:15:07.391636Z",
     "start_time": "2024-11-21T05:15:07.365037Z"
    }
   },
   "cell_type": "code",
   "source": [
    "from VFXTesting.lol_champ_reader import LoLChampReader\n",
    "\n",
    "LoLChampReader().get_champ_ability('Amumu', 'W')"
   ],
   "id": "2e9046e7d92b5188",
   "outputs": [
    {
     "data": {
      "text/plain": [
       "{'name': 'Despair',\n",
       " 'effects': 'Toggle: Amumu cries a continuous pool of tears, dealing magic damage every 0.5 seconds to nearby enemies.',\n",
       " 'cost': 8,\n",
       " 'cooldown': 1,\n",
       " 'targeting': 'Auto',\n",
       " 'affects': 'Enemies',\n",
       " 'spellshieldable': 'False',\n",
       " 'resource': 'MANA_PER_SECOND',\n",
       " 'damageType': 'MAGIC_DAMAGE',\n",
       " 'spellEffects': 'aoedot',\n",
       " 'notes': \"Toggle abilities do not count as ability activations for the purposes of on-cast effects such as  Spellblade and triggering  Force Pulse's passive.\\nDespite the rounding in Despair's tooltip, it will deal increased damage for every point of ability power.\",\n",
       " 'blurb': 'Toggle:  Amumu begins crying, continually dealing magic damage to nearby enemies based on their maximum health.',\n",
       " 'castTime': 'none',\n",
       " 'effectRadius': '350'}"
      ]
     },
     "execution_count": 170,
     "metadata": {},
     "output_type": "execute_result"
    }
   ],
   "execution_count": 170
  },
  {
   "metadata": {
    "ExecuteTime": {
     "end_time": "2024-11-20T18:46:04.206272Z",
     "start_time": "2024-11-20T18:46:04.191707Z"
    }
   },
   "cell_type": "code",
   "source": [
    "from openai import OpenAI\n",
    "\n",
    "MODEL = 'gpt-4o-mini'\n",
    "API_KEY=os.getenv(\"OPENAI_KEY\")\n",
    "\n",
    "client = OpenAI(api_key=API_KEY)\n"
   ],
   "id": "5c1915f405cee89a",
   "outputs": [],
   "execution_count": 94
  },
  {
   "metadata": {
    "ExecuteTime": {
     "end_time": "2024-11-20T20:44:45.293148Z",
     "start_time": "2024-11-20T20:44:42.812909Z"
    }
   },
   "cell_type": "code",
   "source": [
    "champ = \"Ahri\"\n",
    "ability = \"W\"\n",
    "\n",
    "completion = client.chat.completions.create(\n",
    "    model=MODEL,\n",
    "    messages=[\n",
    "        {\"role\": \"system\", \"content\": \"You are a League of Legends creating questions for testing ability VFX, do not mention the champion name or LoL terminology in the questions or answers, if asking questions about colors be sure to be correct\"},\n",
    "        {\"role\": \"assistant\", \"content\": str(LoLChampReader().get_champ_ability(champ, ability))},\n",
    "        {\"role\": \"assistant\", \"content\": \"JSON format: {['question': <question>, 'options': [<option_a>, <option_b>, <option_c>, <option_d>], 'correct_answer': <correct_answer>]}}\"},\n",
    "        {\n",
    "            \"role\": \"user\",\n",
    "            \"content\": f\"Based on the {ability} ability description for {champ}, create 3 questions for the ability visuals, that each could be correctly answered using a single correctly-timed screenshot of the ability, reply only with the given JSON format\"\n",
    "        }\n",
    "    ]\n",
    ")\n",
    "\n",
    "mc_questions = completion.choices[0].message"
   ],
   "id": "1607bb6427846187",
   "outputs": [],
   "execution_count": 165
  },
  {
   "metadata": {
    "ExecuteTime": {
     "end_time": "2024-11-20T20:44:59.763580Z",
     "start_time": "2024-11-20T20:44:59.758427Z"
    }
   },
   "cell_type": "code",
   "source": [
    "# json.loads(mc_questions.content.split('```')[1].replace('json', ''))\n",
    "json.loads(mc_questions.content)"
   ],
   "id": "a1982af0fe3cf0dd",
   "outputs": [
    {
     "data": {
      "text/plain": [
       "[{'question': 'What color do the flames appear when the ability is activated?',\n",
       "  'options': ['Red', 'Blue', 'Green', 'Yellow'],\n",
       "  'correct_answer': 'Red'},\n",
       " {'question': 'How many flames orbit the character after activating the ability?',\n",
       "  'options': ['One', 'Two', 'Three', 'Four'],\n",
       "  'correct_answer': 'Three'},\n",
       " {'question': 'What visual effect indicates that the flames are targeting an enemy?',\n",
       "  'options': ['A glow around the flames',\n",
       "   'A line connecting to the enemy',\n",
       "   'A burst effect',\n",
       "   'A color change'],\n",
       "  'correct_answer': 'A line connecting to the enemy'}]"
      ]
     },
     "execution_count": 168,
     "metadata": {},
     "output_type": "execute_result"
    }
   ],
   "execution_count": 168
  },
  {
   "metadata": {
    "ExecuteTime": {
     "end_time": "2024-11-20T19:05:15.228967Z",
     "start_time": "2024-11-20T19:05:15.196406Z"
    }
   },
   "cell_type": "code",
   "source": "LoLChampReader().get_champ_ability(champ, ability)",
   "id": "1e9e0bc0fc053efa",
   "outputs": [
    {
     "data": {
      "text/plain": [
       "{'name': 'Charm',\n",
       " 'effects': 'Active: Ahri blows forth a kiss in the target direction that deals magic damage to the first enemy hit, knocking them down and charming and slowing them by 65% for a duration.',\n",
       " 'cost': 60,\n",
       " 'cooldown': 12,\n",
       " 'targeting': 'Direction',\n",
       " 'affects': 'Enemies',\n",
       " 'spellshieldable': 'True',\n",
       " 'resource': 'MANA',\n",
       " 'damageType': 'MAGIC_DAMAGE',\n",
       " 'spellEffects': 'spell',\n",
       " 'projectile': 'TRUE',\n",
       " 'notes': 'Charm is able to  slow targets otherwise  immune to slows upon  charming them.(bug)\\nThis ability will cast from wherever the caster is at the end of the cast time.',\n",
       " 'blurb': 'Active:  Ahri blows forth a kiss that  charms the first enemy hit, dealing magic damage and  knocking them down.',\n",
       " 'speed': '1550',\n",
       " 'width': '120',\n",
       " 'castTime': '0.25'}"
      ]
     },
     "execution_count": 99,
     "metadata": {},
     "output_type": "execute_result"
    }
   ],
   "execution_count": 99
  },
  {
   "metadata": {},
   "cell_type": "code",
   "outputs": [],
   "execution_count": null,
   "source": "",
   "id": "c5b7ad48150b04d4"
  }
 ],
 "metadata": {
  "kernelspec": {
   "display_name": "Python 3",
   "language": "python",
   "name": "python3"
  },
  "language_info": {
   "codemirror_mode": {
    "name": "ipython",
    "version": 2
   },
   "file_extension": ".py",
   "mimetype": "text/x-python",
   "name": "python",
   "nbconvert_exporter": "python",
   "pygments_lexer": "ipython2",
   "version": "2.7.6"
  }
 },
 "nbformat": 4,
 "nbformat_minor": 5
}
