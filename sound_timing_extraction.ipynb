{
 "cells": [
  {
   "metadata": {},
   "cell_type": "markdown",
   "source": [
    "# Keyframe extraction using sound\n",
    "We want to extract the start and stop times for our abilities using sound. So first we must translate all the videos in our dataset to `.wav` or audio files that can then be analyzed using `librosa`."
   ],
   "id": "db5dda8b73f55554"
  },
  {
   "cell_type": "code",
   "id": "initial_id",
   "metadata": {
    "collapsed": true,
    "ExecuteTime": {
     "end_time": "2024-11-29T18:40:39.916652Z",
     "start_time": "2024-11-29T18:40:39.898633Z"
    }
   },
   "source": [
    "import os\n",
    "\n",
    "import ffmpeg\n",
    "import threading\n",
    "\n",
    "os.makedirs(\"Data/Audios\", exist_ok=True)\n",
    "\n",
    "def run_ffmpeg_with_timeout(command_func, timeout):\n",
    "    result = {}\n",
    "    def target():\n",
    "        try:\n",
    "            command_func()\n",
    "            result[\"success\"] = True\n",
    "        except Exception as e:\n",
    "            result[\"error\"] = e\n",
    "\n",
    "    thread = threading.Thread(target=target)\n",
    "    thread.start()\n",
    "    thread.join(timeout)\n",
    "\n",
    "    if thread.is_alive():\n",
    "        raise TimeoutError(\"FFmpeg process timed out.\")\n",
    "\n",
    "    if \"error\" in result:\n",
    "        raise result[\"error\"]\n",
    "\n",
    "def webm_to_wav(input_file, output_file, timeout=1):\n",
    "    try:\n",
    "        run_ffmpeg_with_timeout(\n",
    "            lambda: (\n",
    "                ffmpeg\n",
    "                .input(input_file)\n",
    "                .output(output_file, format='wav')\n",
    "                .overwrite_output()\n",
    "                .run(capture_stdout=True, capture_stderr=True)\n",
    "            ),\n",
    "            timeout\n",
    "        )\n",
    "        print(f\"Converted {input_file} to {output_file}\")\n",
    "    except TimeoutError:\n",
    "        print(f\"Timeout: Conversion of {input_file} took longer than {timeout} seconds.\")\n",
    "    except ffmpeg.Error as e:\n",
    "        print(f\"Error occurred:\\n{e.stderr.decode()}\")\n"
   ],
   "outputs": [],
   "execution_count": 3
  },
  {
   "metadata": {
    "ExecuteTime": {
     "end_time": "2024-11-29T18:41:51.112Z",
     "start_time": "2024-11-29T18:40:39.983526Z"
    }
   },
   "cell_type": "code",
   "source": [
    "path = \"Data/Videos/\"\n",
    "\n",
    "for file in os.listdir(path):\n",
    "    input_file = os.path.join(path, file)\n",
    "    if file.endswith(\".webm\"):\n",
    "        output = input_file.replace(\".webm\", \".wav\").replace(\"Videos\", \"Audios\", 1)\n",
    "        webm_to_wav(input_file, output)"
   ],
   "id": "1bb9f47ad3891c1e",
   "outputs": [
    {
     "name": "stdout",
     "output_type": "stream",
     "text": [
      "Timeout: Conversion of Data/Videos/Akshan_W_.webm took longer than 1 seconds.\n",
      "Timeout: Conversion of Data/Videos/Ashe_R_.webm took longer than 1 seconds.\n",
      "Timeout: Conversion of Data/Videos/Ezreal_E.webm took longer than 1 seconds.\n",
      "Timeout: Conversion of Data/Videos/Amumu_E_.webm took longer than 1 seconds.\n",
      "Timeout: Conversion of Data/Videos/Braum_W.webm took longer than 1 seconds.\n",
      "Timeout: Conversion of Data/Videos/Ashe_Passive_.webm took longer than 1 seconds.\n",
      "Timeout: Conversion of Data/Videos/Anivia_Passive_.webm took longer than 1 seconds.\n",
      "Timeout: Conversion of Data/Videos/Aatrox_W_.webm took longer than 1 seconds.\n",
      "Timeout: Conversion of Data/Videos/Anivia_E_.webm took longer than 1 seconds.\n",
      "Converted Data/Videos/Seraphine_Q.webm to Data/Audios/Seraphine_Q.wav\n",
      "Timeout: Conversion of Data/Videos/Akali_W_.webm took longer than 1 seconds.\n",
      "Timeout: Conversion of Data/Videos/Akshan_Q_.webm took longer than 1 seconds.\n",
      "Converted Data/Videos/Diana_R.webm to Data/Audios/Diana_R.wav\n",
      "Converted Data/Videos/Seraphine_E.webm to Data/Audios/Seraphine_E.wav\n",
      "Timeout: Conversion of Data/Videos/Aatrox_Q_.webm took longer than 1 seconds.\n",
      "Converted Data/Videos/Aphelios_Q.webm to Data/Audios/Aphelios_Q.wav\n",
      "Timeout: Conversion of Data/Videos/Azir_R.webm took longer than 1 seconds.\n",
      "Timeout: Conversion of Data/Videos/Akali_Q_.webm took longer than 1 seconds.\n",
      "Timeout: Conversion of Data/Videos/Ahri_EVideo.webm took longer than 1 seconds.\n",
      "Timeout: Conversion of Data/Videos/Ezreal_Q.webm took longer than 1 seconds.\n",
      "Timeout: Conversion of Data/Videos/Seraphine_I.webm took longer than 1 seconds.\n",
      "Timeout: Conversion of Data/Videos/Annie_R.webm took longer than 1 seconds.\n",
      "Timeout: Conversion of Data/Videos/Ashe_Q_.webm took longer than 1 seconds.\n",
      "Timeout: Conversion of Data/Videos/Seraphine_W.webm took longer than 1 seconds.\n",
      "Timeout: Conversion of Data/Videos/Alistar_Q_.webm took longer than 1 seconds.\n",
      "Timeout: Conversion of Data/Videos/Ahri_R.webm took longer than 1 seconds.\n",
      "Timeout: Conversion of Data/Videos/Ahri_WVideo.webm took longer than 1 seconds.\n",
      "Converted Data/Videos/Braum_Q.webm to Data/Audios/Braum_Q.wav\n",
      "Timeout: Conversion of Data/Videos/Akali_Passive_.webm took longer than 1 seconds.\n",
      "Timeout: Conversion of Data/Videos/Aphelios_W.webm took longer than 1 seconds.\n",
      "Converted Data/Videos/Ezreal_W.webm to Data/Audios/Ezreal_W.wav\n",
      "Timeout: Conversion of Data/Videos/Ahri_IVideo.webm took longer than 1 seconds.\n",
      "Converted Data/Videos/Ashe_W_.webm to Data/Audios/Ashe_W_.wav\n",
      "Timeout: Conversion of Data/Videos/Akshan_R_.webm took longer than 1 seconds.\n",
      "Timeout: Conversion of Data/Videos/Alistar_W_.webm took longer than 1 seconds.\n",
      "Timeout: Conversion of Data/Videos/Akali_R_.webm took longer than 1 seconds.\n",
      "Timeout: Conversion of Data/Videos/Akshan_Passive_.webm took longer than 1 seconds.\n",
      "Timeout: Conversion of Data/Videos/Ahri_QVideo.webm took longer than 1 seconds.\n",
      "Timeout: Conversion of Data/Videos/Aatrox_R_.webm took longer than 1 seconds.\n",
      "Converted Data/Videos/Braum_I.webm to Data/Audios/Braum_I.wav\n",
      "Timeout: Conversion of Data/Videos/Aphelios_Q_5.webm took longer than 1 seconds.\n",
      "Timeout: Conversion of Data/Videos/Anivia_W_.webm took longer than 1 seconds.\n",
      "Converted Data/Videos/Aatrox_E_.webm to Data/Audios/Aatrox_E_.wav\n",
      "Converted Data/Videos/Annie_E.webm to Data/Audios/Annie_E.wav\n",
      "Converted Data/Videos/Diana_W.webm to Data/Audios/Diana_W.wav\n",
      "Timeout: Conversion of Data/Videos/Ahri_I.webm took longer than 1 seconds.\n",
      "Converted Data/Videos/Akali_E_.webm to Data/Audios/Akali_E_.wav\n",
      "Converted Data/Videos/Quinn_I.webm to Data/Audios/Quinn_I.wav\n",
      "Converted Data/Videos/Akshan_E_.webm to Data/Audios/Akshan_E_.wav\n",
      "Timeout: Conversion of Data/Videos/Annie_I.webm took longer than 1 seconds.\n",
      "Timeout: Conversion of Data/Videos/Aatrox_I.webm took longer than 1 seconds.\n",
      "Timeout: Conversion of Data/Videos/Amumu_W_.webm took longer than 1 seconds.\n",
      "Timeout: Conversion of Data/Videos/Azir_W.webm took longer than 1 seconds.\n",
      "Converted Data/Videos/Ahri_E.webm to Data/Audios/Ahri_E.wav\n",
      "Converted Data/Videos/Quinn_E.webm to Data/Audios/Quinn_E.wav\n",
      "Converted Data/Videos/Anivia_Q_.webm to Data/Audios/Anivia_Q_.wav\n",
      "Converted Data/Videos/Ahri_Q.webm to Data/Audios/Ahri_Q.wav\n",
      "Converted Data/Videos/Quinn_Q.webm to Data/Audios/Quinn_Q.wav\n",
      "Converted Data/Videos/Braum_R.webm to Data/Audios/Braum_R.wav\n",
      "Timeout: Conversion of Data/Videos/Annie_Q.webm took longer than 1 seconds.\n",
      "Timeout: Conversion of Data/Videos/Ahri_RVideo.webm took longer than 1 seconds.\n",
      "Timeout: Conversion of Data/Videos/Aphelios_Q_4.webm took longer than 1 seconds.\n",
      "Timeout: Conversion of Data/Videos/Amumu_Q_.webm took longer than 1 seconds.\n",
      "Timeout: Conversion of Data/Videos/Amumu_Passive_.webm took longer than 1 seconds.\n",
      "Timeout: Conversion of Data/Videos/Aphelios_R.webm took longer than 1 seconds.\n",
      "Converted Data/Videos/Azir_Q.webm to Data/Audios/Azir_Q.wav\n",
      "Timeout: Conversion of Data/Videos/Ezreal_R.webm took longer than 1 seconds.\n",
      "Timeout: Conversion of Data/Videos/Aphelios_Q_3.webm took longer than 1 seconds.\n",
      "Converted Data/Videos/Diana_Q.webm to Data/Audios/Diana_Q.wav\n",
      "Converted Data/Videos/Alistar_Passive_.webm to Data/Audios/Alistar_Passive_.wav\n",
      "Converted Data/Videos/Annie_W.webm to Data/Audios/Annie_W.wav\n",
      "Timeout: Conversion of Data/Videos/Anivia_R_.webm took longer than 1 seconds.\n",
      "Converted Data/Videos/Azir_I.webm to Data/Audios/Azir_I.wav\n",
      "Converted Data/Videos/Aphelios_Q_2.webm to Data/Audios/Aphelios_Q_2.wav\n",
      "Timeout: Conversion of Data/Videos/Seraphine_R.webm took longer than 1 seconds.\n",
      "Timeout: Conversion of Data/Videos/Amumu_R_.webm took longer than 1 seconds.\n",
      "Converted Data/Videos/Diana_I.webm to Data/Audios/Diana_I.wav\n",
      "Timeout: Conversion of Data/Videos/Ahri_W.webm took longer than 1 seconds.\n",
      "Timeout: Conversion of Data/Videos/Azir_E.webm took longer than 1 seconds.\n",
      "Timeout: Conversion of Data/Videos/Ashe_E_.webm took longer than 1 seconds.\n",
      "Timeout: Conversion of Data/Videos/Quinn_W.webm took longer than 1 seconds.\n"
     ]
    }
   ],
   "execution_count": 4
  },
  {
   "metadata": {
    "ExecuteTime": {
     "end_time": "2024-11-29T18:41:51.248717Z",
     "start_time": "2024-11-29T18:41:51.129345Z"
    }
   },
   "cell_type": "code",
   "source": [
    "import librosa\n",
    "import numpy as np\n",
    "\n",
    "# TODO: Test with some type of filter\n",
    "def get_sound_start_end_with_noise_gate(audio_file, threshold_ratio=0.1, padding=0.1):\n",
    "    \"\"\"\n",
    "    Returns start and end times of a sound using an adaptive noise gate.\n",
    "    \n",
    "    :param audio_file: Path to the audio file.\n",
    "    :param threshold_ratio: Proportion of the max amplitude to consider as noise (e.g., 0.1 = 10%).\n",
    "    :param padding: Time (in seconds) to extend start and end times for safety.\n",
    "    \"\"\"\n",
    "    y, sr = librosa.load(audio_file)\n",
    "\n",
    "    envelope = np.abs(y)\n",
    "    noise_threshold = threshold_ratio * np.max(envelope)\n",
    "    sound_indices = np.where(envelope > noise_threshold)[0]\n",
    "\n",
    "    if len(sound_indices) == 0:\n",
    "        # No significant sound above thresholds\n",
    "        return None, None\n",
    "\n",
    "    start_idx = sound_indices[0]\n",
    "    end_idx = sound_indices[-1]\n",
    "\n",
    "    start_time = max(0, librosa.samples_to_time(start_idx, sr=sr) - padding)\n",
    "    end_time = librosa.samples_to_time(end_idx, sr=sr) + padding\n",
    "\n",
    "    return start_time, end_time"
   ],
   "id": "8653986e3727f56f",
   "outputs": [],
   "execution_count": 5
  },
  {
   "metadata": {
    "ExecuteTime": {
     "end_time": "2024-11-29T18:41:51.255722Z",
     "start_time": "2024-11-29T18:41:51.253398Z"
    }
   },
   "cell_type": "code",
   "source": [
    "AUDIO_PATH = \"Data/Audios/\"\n",
    "threshold_ratio = 0.05\n",
    "\n",
    "def get_sound_start_ends(audio_path, threshold_ratio):\n",
    "    thresholds = {}\n",
    "    for sound_file in os.listdir(audio_path):\n",
    "        filename = os.path.join(audio_path, sound_file)\n",
    "        start, end = get_sound_start_end_with_noise_gate(filename, threshold_ratio=threshold_ratio)\n",
    "        if start is not None and end is not None:\n",
    "            thresholds[sound_file.removesuffix('.wav')] = np.array([start, end])\n",
    "    return thresholds"
   ],
   "id": "521bd3fe432cf46a",
   "outputs": [],
   "execution_count": 6
  },
  {
   "metadata": {
    "ExecuteTime": {
     "end_time": "2024-11-29T18:42:33.399851Z",
     "start_time": "2024-11-29T18:42:33.321902Z"
    }
   },
   "cell_type": "code",
   "source": [
    "threshold_ratios = np.arange(0.1, 0.15, step=0.01)\n",
    "audio_start_stops_by_threshold = []\n",
    "for threshold_ratio in threshold_ratios:\n",
    "    audio_start_stops_by_threshold.append(get_sound_start_ends(AUDIO_PATH, threshold_ratio))"
   ],
   "id": "49e2a0b4d7bb59f8",
   "outputs": [
    {
     "ename": "ImportError",
     "evalue": "Numba needs NumPy 2.0 or less. Got NumPy 2.1.",
     "output_type": "error",
     "traceback": [
      "\u001B[0;31m---------------------------------------------------------------------------\u001B[0m",
      "\u001B[0;31mImportError\u001B[0m                               Traceback (most recent call last)",
      "Cell \u001B[0;32mIn[9], line 4\u001B[0m\n\u001B[1;32m      2\u001B[0m audio_start_stops_by_threshold \u001B[38;5;241m=\u001B[39m []\n\u001B[1;32m      3\u001B[0m \u001B[38;5;28;01mfor\u001B[39;00m threshold_ratio \u001B[38;5;129;01min\u001B[39;00m threshold_ratios:\n\u001B[0;32m----> 4\u001B[0m     audio_start_stops_by_threshold\u001B[38;5;241m.\u001B[39mappend(\u001B[43mget_sound_start_ends\u001B[49m\u001B[43m(\u001B[49m\u001B[43mAUDIO_PATH\u001B[49m\u001B[43m,\u001B[49m\u001B[43m \u001B[49m\u001B[43mthreshold_ratio\u001B[49m\u001B[43m)\u001B[49m)\n",
      "Cell \u001B[0;32mIn[6], line 8\u001B[0m, in \u001B[0;36mget_sound_start_ends\u001B[0;34m(audio_path, threshold_ratio)\u001B[0m\n\u001B[1;32m      6\u001B[0m \u001B[38;5;28;01mfor\u001B[39;00m sound_file \u001B[38;5;129;01min\u001B[39;00m os\u001B[38;5;241m.\u001B[39mlistdir(audio_path):\n\u001B[1;32m      7\u001B[0m     filename \u001B[38;5;241m=\u001B[39m os\u001B[38;5;241m.\u001B[39mpath\u001B[38;5;241m.\u001B[39mjoin(audio_path, sound_file)\n\u001B[0;32m----> 8\u001B[0m     start, end \u001B[38;5;241m=\u001B[39m \u001B[43mget_sound_start_end_with_noise_gate\u001B[49m\u001B[43m(\u001B[49m\u001B[43mfilename\u001B[49m\u001B[43m,\u001B[49m\u001B[43m \u001B[49m\u001B[43mthreshold_ratio\u001B[49m\u001B[38;5;241;43m=\u001B[39;49m\u001B[43mthreshold_ratio\u001B[49m\u001B[43m)\u001B[49m\n\u001B[1;32m      9\u001B[0m     \u001B[38;5;28;01mif\u001B[39;00m start \u001B[38;5;129;01mis\u001B[39;00m \u001B[38;5;129;01mnot\u001B[39;00m \u001B[38;5;28;01mNone\u001B[39;00m \u001B[38;5;129;01mand\u001B[39;00m end \u001B[38;5;129;01mis\u001B[39;00m \u001B[38;5;129;01mnot\u001B[39;00m \u001B[38;5;28;01mNone\u001B[39;00m:\n\u001B[1;32m     10\u001B[0m         thresholds[sound_file\u001B[38;5;241m.\u001B[39mremovesuffix(\u001B[38;5;124m'\u001B[39m\u001B[38;5;124m.wav\u001B[39m\u001B[38;5;124m'\u001B[39m)] \u001B[38;5;241m=\u001B[39m np\u001B[38;5;241m.\u001B[39marray([start, end])\n",
      "Cell \u001B[0;32mIn[5], line 13\u001B[0m, in \u001B[0;36mget_sound_start_end_with_noise_gate\u001B[0;34m(audio_file, threshold_ratio, padding)\u001B[0m\n\u001B[1;32m      5\u001B[0m \u001B[38;5;28;01mdef\u001B[39;00m \u001B[38;5;21mget_sound_start_end_with_noise_gate\u001B[39m(audio_file, threshold_ratio\u001B[38;5;241m=\u001B[39m\u001B[38;5;241m0.1\u001B[39m, padding\u001B[38;5;241m=\u001B[39m\u001B[38;5;241m0.1\u001B[39m):\n\u001B[1;32m      6\u001B[0m \u001B[38;5;250m    \u001B[39m\u001B[38;5;124;03m\"\"\"\u001B[39;00m\n\u001B[1;32m      7\u001B[0m \u001B[38;5;124;03m    Returns start and end times of a sound using an adaptive noise gate.\u001B[39;00m\n\u001B[1;32m      8\u001B[0m \u001B[38;5;124;03m    \u001B[39;00m\n\u001B[0;32m   (...)\u001B[0m\n\u001B[1;32m     11\u001B[0m \u001B[38;5;124;03m    :param padding: Time (in seconds) to extend start and end times for safety.\u001B[39;00m\n\u001B[1;32m     12\u001B[0m \u001B[38;5;124;03m    \"\"\"\u001B[39;00m\n\u001B[0;32m---> 13\u001B[0m     y, sr \u001B[38;5;241m=\u001B[39m \u001B[43mlibrosa\u001B[49m\u001B[38;5;241;43m.\u001B[39;49m\u001B[43mload\u001B[49m(audio_file)\n\u001B[1;32m     15\u001B[0m     envelope \u001B[38;5;241m=\u001B[39m np\u001B[38;5;241m.\u001B[39mabs(y)\n\u001B[1;32m     16\u001B[0m     noise_threshold \u001B[38;5;241m=\u001B[39m threshold_ratio \u001B[38;5;241m*\u001B[39m np\u001B[38;5;241m.\u001B[39mmax(envelope)\n",
      "File \u001B[0;32m~/mambaforge/envs/vfx_tester/lib/python3.11/site-packages/lazy_loader/__init__.py:83\u001B[0m, in \u001B[0;36mattach.<locals>.__getattr__\u001B[0;34m(name)\u001B[0m\n\u001B[1;32m     81\u001B[0m submod_path \u001B[38;5;241m=\u001B[39m \u001B[38;5;124mf\u001B[39m\u001B[38;5;124m\"\u001B[39m\u001B[38;5;132;01m{\u001B[39;00mpackage_name\u001B[38;5;132;01m}\u001B[39;00m\u001B[38;5;124m.\u001B[39m\u001B[38;5;132;01m{\u001B[39;00mattr_to_modules[name]\u001B[38;5;132;01m}\u001B[39;00m\u001B[38;5;124m\"\u001B[39m\n\u001B[1;32m     82\u001B[0m submod \u001B[38;5;241m=\u001B[39m importlib\u001B[38;5;241m.\u001B[39mimport_module(submod_path)\n\u001B[0;32m---> 83\u001B[0m attr \u001B[38;5;241m=\u001B[39m \u001B[38;5;28;43mgetattr\u001B[39;49m\u001B[43m(\u001B[49m\u001B[43msubmod\u001B[49m\u001B[43m,\u001B[49m\u001B[43m \u001B[49m\u001B[43mname\u001B[49m\u001B[43m)\u001B[49m\n\u001B[1;32m     85\u001B[0m \u001B[38;5;66;03m# If the attribute lives in a file (module) with the same\u001B[39;00m\n\u001B[1;32m     86\u001B[0m \u001B[38;5;66;03m# name as the attribute, ensure that the attribute and *not*\u001B[39;00m\n\u001B[1;32m     87\u001B[0m \u001B[38;5;66;03m# the module is accessible on the package.\u001B[39;00m\n\u001B[1;32m     88\u001B[0m \u001B[38;5;28;01mif\u001B[39;00m name \u001B[38;5;241m==\u001B[39m attr_to_modules[name]:\n",
      "File \u001B[0;32m~/mambaforge/envs/vfx_tester/lib/python3.11/site-packages/lazy_loader/__init__.py:82\u001B[0m, in \u001B[0;36mattach.<locals>.__getattr__\u001B[0;34m(name)\u001B[0m\n\u001B[1;32m     80\u001B[0m \u001B[38;5;28;01melif\u001B[39;00m name \u001B[38;5;129;01min\u001B[39;00m attr_to_modules:\n\u001B[1;32m     81\u001B[0m     submod_path \u001B[38;5;241m=\u001B[39m \u001B[38;5;124mf\u001B[39m\u001B[38;5;124m\"\u001B[39m\u001B[38;5;132;01m{\u001B[39;00mpackage_name\u001B[38;5;132;01m}\u001B[39;00m\u001B[38;5;124m.\u001B[39m\u001B[38;5;132;01m{\u001B[39;00mattr_to_modules[name]\u001B[38;5;132;01m}\u001B[39;00m\u001B[38;5;124m\"\u001B[39m\n\u001B[0;32m---> 82\u001B[0m     submod \u001B[38;5;241m=\u001B[39m \u001B[43mimportlib\u001B[49m\u001B[38;5;241;43m.\u001B[39;49m\u001B[43mimport_module\u001B[49m\u001B[43m(\u001B[49m\u001B[43msubmod_path\u001B[49m\u001B[43m)\u001B[49m\n\u001B[1;32m     83\u001B[0m     attr \u001B[38;5;241m=\u001B[39m \u001B[38;5;28mgetattr\u001B[39m(submod, name)\n\u001B[1;32m     85\u001B[0m     \u001B[38;5;66;03m# If the attribute lives in a file (module) with the same\u001B[39;00m\n\u001B[1;32m     86\u001B[0m     \u001B[38;5;66;03m# name as the attribute, ensure that the attribute and *not*\u001B[39;00m\n\u001B[1;32m     87\u001B[0m     \u001B[38;5;66;03m# the module is accessible on the package.\u001B[39;00m\n",
      "File \u001B[0;32m~/mambaforge/envs/vfx_tester/lib/python3.11/importlib/__init__.py:126\u001B[0m, in \u001B[0;36mimport_module\u001B[0;34m(name, package)\u001B[0m\n\u001B[1;32m    124\u001B[0m             \u001B[38;5;28;01mbreak\u001B[39;00m\n\u001B[1;32m    125\u001B[0m         level \u001B[38;5;241m+\u001B[39m\u001B[38;5;241m=\u001B[39m \u001B[38;5;241m1\u001B[39m\n\u001B[0;32m--> 126\u001B[0m \u001B[38;5;28;01mreturn\u001B[39;00m \u001B[43m_bootstrap\u001B[49m\u001B[38;5;241;43m.\u001B[39;49m\u001B[43m_gcd_import\u001B[49m\u001B[43m(\u001B[49m\u001B[43mname\u001B[49m\u001B[43m[\u001B[49m\u001B[43mlevel\u001B[49m\u001B[43m:\u001B[49m\u001B[43m]\u001B[49m\u001B[43m,\u001B[49m\u001B[43m \u001B[49m\u001B[43mpackage\u001B[49m\u001B[43m,\u001B[49m\u001B[43m \u001B[49m\u001B[43mlevel\u001B[49m\u001B[43m)\u001B[49m\n",
      "File \u001B[0;32m<frozen importlib._bootstrap>:1204\u001B[0m, in \u001B[0;36m_gcd_import\u001B[0;34m(name, package, level)\u001B[0m\n",
      "File \u001B[0;32m<frozen importlib._bootstrap>:1176\u001B[0m, in \u001B[0;36m_find_and_load\u001B[0;34m(name, import_)\u001B[0m\n",
      "File \u001B[0;32m<frozen importlib._bootstrap>:1147\u001B[0m, in \u001B[0;36m_find_and_load_unlocked\u001B[0;34m(name, import_)\u001B[0m\n",
      "File \u001B[0;32m<frozen importlib._bootstrap>:690\u001B[0m, in \u001B[0;36m_load_unlocked\u001B[0;34m(spec)\u001B[0m\n",
      "File \u001B[0;32m<frozen importlib._bootstrap_external>:940\u001B[0m, in \u001B[0;36mexec_module\u001B[0;34m(self, module)\u001B[0m\n",
      "File \u001B[0;32m<frozen importlib._bootstrap>:241\u001B[0m, in \u001B[0;36m_call_with_frames_removed\u001B[0;34m(f, *args, **kwds)\u001B[0m\n",
      "File \u001B[0;32m~/mambaforge/envs/vfx_tester/lib/python3.11/site-packages/librosa/core/audio.py:18\u001B[0m\n\u001B[1;32m     15\u001B[0m \u001B[38;5;28;01mimport\u001B[39;00m \u001B[38;5;21;01msoxr\u001B[39;00m\n\u001B[1;32m     16\u001B[0m \u001B[38;5;28;01mimport\u001B[39;00m \u001B[38;5;21;01mlazy_loader\u001B[39;00m \u001B[38;5;28;01mas\u001B[39;00m \u001B[38;5;21;01mlazy\u001B[39;00m\n\u001B[0;32m---> 18\u001B[0m \u001B[38;5;28;01mfrom\u001B[39;00m \u001B[38;5;21;01mnumba\u001B[39;00m \u001B[38;5;28;01mimport\u001B[39;00m jit, stencil, guvectorize\n\u001B[1;32m     19\u001B[0m \u001B[38;5;28;01mfrom\u001B[39;00m \u001B[38;5;21;01m.\u001B[39;00m\u001B[38;5;21;01mfft\u001B[39;00m \u001B[38;5;28;01mimport\u001B[39;00m get_fftlib\n\u001B[1;32m     20\u001B[0m \u001B[38;5;28;01mfrom\u001B[39;00m \u001B[38;5;21;01m.\u001B[39;00m\u001B[38;5;21;01mconvert\u001B[39;00m \u001B[38;5;28;01mimport\u001B[39;00m frames_to_samples, time_to_samples\n",
      "File \u001B[0;32m~/mambaforge/envs/vfx_tester/lib/python3.11/site-packages/numba/__init__.py:59\u001B[0m\n\u001B[1;32m     54\u001B[0m             msg \u001B[38;5;241m=\u001B[39m (\u001B[38;5;124m\"\u001B[39m\u001B[38;5;124mNumba requires SciPy version 1.0 or greater. Got SciPy \u001B[39m\u001B[38;5;124m\"\u001B[39m\n\u001B[1;32m     55\u001B[0m                    \u001B[38;5;124mf\u001B[39m\u001B[38;5;124m\"\u001B[39m\u001B[38;5;132;01m{\u001B[39;00mscipy\u001B[38;5;241m.\u001B[39m__version__\u001B[38;5;132;01m}\u001B[39;00m\u001B[38;5;124m.\u001B[39m\u001B[38;5;124m\"\u001B[39m)\n\u001B[1;32m     56\u001B[0m             \u001B[38;5;28;01mraise\u001B[39;00m \u001B[38;5;167;01mImportError\u001B[39;00m(msg)\n\u001B[0;32m---> 59\u001B[0m \u001B[43m_ensure_critical_deps\u001B[49m\u001B[43m(\u001B[49m\u001B[43m)\u001B[49m\n\u001B[1;32m     60\u001B[0m \u001B[38;5;66;03m# END DO NOT MOVE\u001B[39;00m\n\u001B[1;32m     61\u001B[0m \u001B[38;5;66;03m# ---------------------- WARNING WARNING WARNING ----------------------------\u001B[39;00m\n\u001B[1;32m     64\u001B[0m \u001B[38;5;28;01mfrom\u001B[39;00m \u001B[38;5;21;01m.\u001B[39;00m\u001B[38;5;21;01m_version\u001B[39;00m \u001B[38;5;28;01mimport\u001B[39;00m get_versions\n",
      "File \u001B[0;32m~/mambaforge/envs/vfx_tester/lib/python3.11/site-packages/numba/__init__.py:45\u001B[0m, in \u001B[0;36m_ensure_critical_deps\u001B[0;34m()\u001B[0m\n\u001B[1;32m     42\u001B[0m \u001B[38;5;28;01mif\u001B[39;00m numpy_version \u001B[38;5;241m>\u001B[39m (\u001B[38;5;241m2\u001B[39m, \u001B[38;5;241m0\u001B[39m):\n\u001B[1;32m     43\u001B[0m     msg \u001B[38;5;241m=\u001B[39m (\u001B[38;5;124mf\u001B[39m\u001B[38;5;124m\"\u001B[39m\u001B[38;5;124mNumba needs NumPy 2.0 or less. Got NumPy \u001B[39m\u001B[38;5;124m\"\u001B[39m\n\u001B[1;32m     44\u001B[0m            \u001B[38;5;124mf\u001B[39m\u001B[38;5;124m\"\u001B[39m\u001B[38;5;132;01m{\u001B[39;00mnumpy_version[\u001B[38;5;241m0\u001B[39m]\u001B[38;5;132;01m}\u001B[39;00m\u001B[38;5;124m.\u001B[39m\u001B[38;5;132;01m{\u001B[39;00mnumpy_version[\u001B[38;5;241m1\u001B[39m]\u001B[38;5;132;01m}\u001B[39;00m\u001B[38;5;124m.\u001B[39m\u001B[38;5;124m\"\u001B[39m)\n\u001B[0;32m---> 45\u001B[0m     \u001B[38;5;28;01mraise\u001B[39;00m \u001B[38;5;167;01mImportError\u001B[39;00m(msg)\n\u001B[1;32m     47\u001B[0m \u001B[38;5;28;01mtry\u001B[39;00m:\n\u001B[1;32m     48\u001B[0m     \u001B[38;5;28;01mimport\u001B[39;00m \u001B[38;5;21;01mscipy\u001B[39;00m\n",
      "\u001B[0;31mImportError\u001B[0m: Numba needs NumPy 2.0 or less. Got NumPy 2.1."
     ]
    }
   ],
   "execution_count": 9
  },
  {
   "metadata": {
    "ExecuteTime": {
     "end_time": "2024-11-29T18:41:53.805897Z",
     "start_time": "2024-11-26T05:35:06.136160Z"
    }
   },
   "cell_type": "code",
   "source": [
    "average_audio_start_stops = {}\n",
    "for key in audio_start_stops_by_threshold[0].keys():\n",
    "    values = np.array([audio_start_stop[key] for audio_start_stop in audio_start_stops_by_threshold])\n",
    "    average_audio_start_stops[key] = np.mean(values, axis=0)\n",
    "\n",
    "average_audio_start_stops"
   ],
   "id": "af497f10da8d1d06",
   "outputs": [
    {
     "data": {
      "text/plain": [
       "{'Aatrox_I': array([1.02161451, 2.12857143]),\n",
       " 'Ezreal_W': array([0.18619501, 3.3700771 ]),\n",
       " 'Cho%27Gath_Q': array([2.58794558, 5.69720635]),\n",
       " 'Rek%27Sai_R': array([ 0.89297052, 15.09980045]),\n",
       " 'Annie_Q': array([0.30193197, 6.15759637]),\n",
       " 'Seraphine_I': array([ 0.3785941 , 11.42092517]),\n",
       " 'Amumu_E_': array([0.26556009, 2.1562449 ]),\n",
       " 'Ekko_I': array([ 7.24837188, 11.8313288 ]),\n",
       " 'Cho%27Gath_R': array([ 2.0568254 , 10.62470748]),\n",
       " 'Cho%27Gath_E': array([ 1.58175964, 12.21933787]),\n",
       " 'Ashe_R_': array([0.56698413, 3.95856689]),\n",
       " 'Anivia_Passive_': array([ 0.08185034, 10.91654422]),\n",
       " 'Ashe_Passive_': array([0.44441723, 8.48327438]),\n",
       " 'Annie_E': array([0.46146939, 9.17856689]),\n",
       " 'Annie_R': array([0.29657143, 6.69629025]),\n",
       " 'Azir_I': array([1.01963719, 7.76175057]),\n",
       " 'Anivia_R_': array([0.26936961, 8.11219955]),\n",
       " 'Amumu_Q_': array([0.44006349, 1.57580952]),\n",
       " 'Ezreal_Q': array([0.54224036, 6.2832381 ]),\n",
       " 'Akali_W_': array([ 0.79597279, 12.2401542 ]),\n",
       " 'Cho%27Gath_W': array([0.39096599, 4.12258503]),\n",
       " 'Bard_I': array([ 2.70393651, 32.81451247]),\n",
       " 'Annie_W': array([0.31165533, 2.34068934]),\n",
       " 'Ahri_RVideo': array([0.25396825, 5.81727891]),\n",
       " 'Diana_I': array([0.37857596, 3.36155102]),\n",
       " 'Ezreal_E': array([0.48727438, 1.64144218]),\n",
       " 'Ezreal_R': array([0.11022222, 2.15010431]),\n",
       " 'Quinn_I': array([0.86048073, 3.55707029]),\n",
       " 'Alistar_Q_': array([1.61619955, 2.85313379]),\n",
       " 'Brand_W': array([ 3.9461678 , 14.07122902]),\n",
       " 'Braum_R': array([0.28660317, 2.73755102]),\n",
       " 'Braum_E': array([0.37257143, 4.83435828]),\n",
       " 'Akali_E_': array([0.21992744, 3.71837642]),\n",
       " 'Corki_R': array([ 3.10132426, 10.86536961]),\n",
       " 'Corki_E': array([2.94131519, 7.38760998]),\n",
       " 'Fiora_I': array([ 9.54218594, 14.29158277]),\n",
       " 'Amumu_Passive_': array([ 1.0492517 , 12.41075737]),\n",
       " 'Braum_Q': array([0.        , 2.96470748]),\n",
       " 'Caitlyn_W': array([2.19570975, 8.32715646]),\n",
       " 'Aatrox_R_': array([ 0.1924263 , 10.99804082]),\n",
       " 'Corki_Q': array([2.1310839 , 5.24297506]),\n",
       " 'Elise_I': array([ 0.90484354, 11.20832653]),\n",
       " 'Brand_Q': array([ 3.24239456, 10.37610884]),\n",
       " 'Caitlyn_R': array([ 3.80037188, 12.13518367]),\n",
       " 'Caitlyn_E': array([3.2065034 , 4.40254875]),\n",
       " 'Blitzcrank_I': array([ 0.55342404, 13.68626757]),\n",
       " 'Darius_I': array([ 1.7782585, 11.7107483]),\n",
       " 'Alistar_W_': array([1.18485261, 2.58364626]),\n",
       " 'Brand_E': array([ 5.05114739, 12.77010431]),\n",
       " 'Brand_R': array([ 4.08360091, 12.1585034 ]),\n",
       " 'Amumu_W_': array([0.21363265, 8.52109751]),\n",
       " 'Caitlyn_Q': array([2.48044444, 4.17844898]),\n",
       " 'Braum_W': array([0.62175057, 7.68696599]),\n",
       " 'Akali_Q_': array([0.60585941, 1.32079819]),\n",
       " 'Corki_W': array([2.58880726, 5.80948753]),\n",
       " 'Brand_I': array([ 1.00018141, 13.40779138]),\n",
       " 'Akali_R_': array([0.30868027, 5.46226757]),\n",
       " 'Blitzcrank_Q': array([1.92975057, 6.67864853]),\n",
       " 'Fiora_W': array([ 0.36271202, 11.08509751]),\n",
       " 'Darius_Q': array([0.8145034 , 8.50764626]),\n",
       " 'Caitlyn_I': array([ 1.05529252, 17.11609977]),\n",
       " 'Aatrox_E_': array([0.61630839, 3.79212698]),\n",
       " 'Blitzcrank_R': array([ 0.2465034 , 10.21228118]),\n",
       " 'Blitzcrank_E': array([0.85820408, 4.32696599]),\n",
       " 'Ahri_QVideo': array([0.24556916, 2.24301134]),\n",
       " 'Elise_W': array([ 1.07732426, 16.9502585 ]),\n",
       " 'Darius_E': array([2.52543311, 5.7831746 ]),\n",
       " 'Darius_R': array([ 2.09093878, 12.24162358]),\n",
       " 'Aatrox_Q_': array([0.45836735, 4.29135601]),\n",
       " 'Blitzcrank_W': array([ 0.48427211, 15.52408163]),\n",
       " 'Elise_E': array([ 1.04417234, 11.37930159]),\n",
       " 'Fiora_Q': array([2.80088889, 6.60998639]),\n",
       " 'Elise_R': array([ 1.54748299, 10.39970975]),\n",
       " 'Darius_W': array([2.45648073, 4.82115193]),\n",
       " 'Ahri_EVideo': array([0.33034014, 1.93131973]),\n",
       " 'Braum_I': array([0.97435828, 5.0759093 ]),\n",
       " 'Ashe_W_': array([0.45735147, 2.16428118]),\n",
       " 'Fiora_R': array([ 3.1522449 , 21.65170068]),\n",
       " 'Elise_Q': array([0.8955102 , 7.37936508]),\n",
       " 'Fiora_E': array([2.83082086, 5.52217687]),\n",
       " 'Anivia_W_': array([0.44459864, 1.34295692]),\n",
       " 'Draven_W': array([ 1.28989569, 19.00479819]),\n",
       " 'Ahri_Q': array([0.24556916, 2.24301134]),\n",
       " 'Ahri_IVideo': array([0.13838549, 4.31953741]),\n",
       " 'Bard_Q': array([ 1.74543311, 21.3436644 ]),\n",
       " 'Akshan_Passive_': array([0.50369161, 8.31012245]),\n",
       " 'Seraphine_W': array([0.21469388, 7.25329705]),\n",
       " 'Quinn_E': array([0.94062585, 4.99525624]),\n",
       " 'Diana_Q': array([0.31678005, 1.7957551 ]),\n",
       " 'Graves_I': array([ 1.89095692, 15.47964626]),\n",
       " 'Cassiopeia_E': array([3.26923356, 9.07784127]),\n",
       " 'Cassiopeia_R': array([4.51712472, 8.26580499]),\n",
       " 'Akali_Passive_': array([1.70251247, 6.66651247]),\n",
       " 'Amumu_R_': array([0.3014966, 2.992    ]),\n",
       " 'Aphelios_Q_3': array([ 0.54126984, 18.20718367]),\n",
       " 'Ekko_W': array([ 1.14369161, 13.78156009]),\n",
       " 'Ashe_E_': array([0.26115193, 2.21660771]),\n",
       " 'Ahri_R': array([0.25396825, 5.81727891]),\n",
       " 'Bard_E': array([ 1.62273016, 13.86090703]),\n",
       " 'Alistar_Passive_': array([1.21891156, 3.34643991]),\n",
       " 'Bard_R': array([ 6.07268027, 39.53751474]),\n",
       " 'Aphelios_R': array([ 0.48494331, 21.95388662]),\n",
       " 'Quinn_Q': array([0.1862585 , 3.57216327]),\n",
       " 'Anivia_E_': array([0.16678458, 5.36188662]),\n",
       " 'Azir_W': array([ 1.47662585, 16.7768254 ]),\n",
       " 'Diana_R': array([0.82439002, 3.52877098]),\n",
       " 'Cassiopeia_Q': array([2.78660317, 8.30405442]),\n",
       " 'Ekko_R': array([16.0047619 , 18.39995465]),\n",
       " 'Ekko_E': array([1.68170522, 9.69790476]),\n",
       " 'Draven_Q': array([ 0.4819229 , 11.71856689]),\n",
       " 'Ashe_Q_': array([0.22287528, 9.55613605]),\n",
       " 'Bard_W': array([ 1.50011791, 16.67190023]),\n",
       " 'Aphelios_W': array([0.37442177, 5.91697052]),\n",
       " 'Annie_I': array([0.27690703, 8.32310204]),\n",
       " 'Seraphine_Q': array([0.29399546, 5.53970975]),\n",
       " 'Azir_E': array([ 1.79801361, 11.77724263]),\n",
       " 'Azir_R': array([0.7067483 , 4.91731519]),\n",
       " 'Anivia_Q_': array([0.07976417, 1.76320181]),\n",
       " 'Diana_W': array([0.21931973, 6.79661678]),\n",
       " 'Ekko_Q': array([0.56048073, 9.31583673]),\n",
       " 'Draven_R': array([3.82808163, 7.65553741]),\n",
       " 'Aatrox_W_': array([0.40490703, 3.5507483 ]),\n",
       " 'Draven_E': array([4.7545034 , 6.03990023]),\n",
       " 'Seraphine_R': array([0.29936508, 2.4589932 ]),\n",
       " 'Seraphine_E': array([0.83505669, 6.40473469]),\n",
       " 'Quinn_W': array([0.68817234, 1.98435374]),\n",
       " 'Azir_Q': array([ 1.44224943, 11.7302585 ]),\n",
       " 'Ahri_WVideo': array([0.24407256, 3.52676644]),\n",
       " 'Cassiopeia_W': array([2.83976417, 7.60821769])}"
      ]
     },
     "execution_count": 129,
     "metadata": {},
     "output_type": "execute_result"
    }
   ],
   "execution_count": 129
  },
  {
   "metadata": {
    "ExecuteTime": {
     "end_time": "2024-11-29T18:41:53.808155Z",
     "start_time": "2024-11-26T05:35:09.682364Z"
    }
   },
   "cell_type": "code",
   "source": [
    "import statistics\n",
    "import numpy as np\n",
    "\n",
    "def analyze_global_error(audio_start_stops_by_threshold):\n",
    "    keys = audio_start_stops_by_threshold[0].keys()    \n",
    "    key_errors = {key: [] for key in keys}\n",
    "    \n",
    "    for key in keys:\n",
    "        values = [d[key] for d in audio_start_stops_by_threshold]\n",
    "        for i in range(len(values)):\n",
    "            for j in range(i + 1, len(values)):\n",
    "                key_errors[key].append(abs(np.subtract(values[i], values[j])).sum())\n",
    "    \n",
    "    key_errors = {key: statistics.mean(errors) for key, errors in key_errors.items()}\n",
    "    overall_mae = statistics.mean(key_errors.values())\n",
    "    \n",
    "    return overall_mae, key_errors\n"
   ],
   "id": "10b1bdeffdc24746",
   "outputs": [],
   "execution_count": 130
  },
  {
   "metadata": {
    "ExecuteTime": {
     "end_time": "2024-11-29T18:41:53.808431Z",
     "start_time": "2024-11-26T05:35:19.669765Z"
    }
   },
   "cell_type": "code",
   "source": [
    "overall_mae, mae_by_video = analyze_global_error(audio_start_stops_by_threshold)\n",
    "\n",
    "# Extract those audios for which we are more or less sure - have little background noise for example\n",
    "low_error_audio_start_stop = [key for key, value in mae_by_video.items() if value < 0.01]\n",
    "low_error_audio_start_stop"
   ],
   "id": "debbc4059beca18d",
   "outputs": [
    {
     "data": {
      "text/plain": [
       "['Seraphine_I',\n",
       " 'Amumu_E_',\n",
       " 'Cho%27Gath_E',\n",
       " 'Amumu_Q_',\n",
       " 'Quinn_I',\n",
       " 'Akali_E_',\n",
       " 'Elise_I',\n",
       " 'Brand_Q',\n",
       " 'Alistar_W_',\n",
       " 'Akali_Q_',\n",
       " 'Blitzcrank_E',\n",
       " 'Ahri_QVideo',\n",
       " 'Elise_W',\n",
       " 'Anivia_W_',\n",
       " 'Ahri_Q',\n",
       " 'Akshan_Passive_',\n",
       " 'Graves_I',\n",
       " 'Cassiopeia_R',\n",
       " 'Draven_R',\n",
       " 'Aatrox_W_',\n",
       " 'Seraphine_R']"
      ]
     },
     "execution_count": 133,
     "metadata": {},
     "output_type": "execute_result"
    }
   ],
   "execution_count": 133
  },
  {
   "metadata": {
    "ExecuteTime": {
     "end_time": "2024-11-29T18:41:53.808618Z",
     "start_time": "2024-11-26T05:46:23.833692Z"
    }
   },
   "cell_type": "code",
   "source": "\"Braum_W\", average_audio_start_stops[\"Braum_W\"]",
   "id": "a04e0447387e6afd",
   "outputs": [
    {
     "data": {
      "text/plain": [
       "('Braum_W', array([0.62175057, 7.68696599]))"
      ]
     },
     "execution_count": 137,
     "metadata": {},
     "output_type": "execute_result"
    }
   ],
   "execution_count": 137
  }
 ],
 "metadata": {
  "kernelspec": {
   "display_name": "Python 3",
   "language": "python",
   "name": "python3"
  },
  "language_info": {
   "codemirror_mode": {
    "name": "ipython",
    "version": 2
   },
   "file_extension": ".py",
   "mimetype": "text/x-python",
   "name": "python",
   "nbconvert_exporter": "python",
   "pygments_lexer": "ipython2",
   "version": "2.7.6"
  }
 },
 "nbformat": 4,
 "nbformat_minor": 5
}
