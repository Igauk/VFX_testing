{
 "cells": [
  {
   "cell_type": "code",
   "id": "initial_id",
   "metadata": {
    "collapsed": true,
    "ExecuteTime": {
     "end_time": "2024-11-21T07:07:09.203304Z",
     "start_time": "2024-11-21T07:07:08.903299Z"
    }
   },
   "source": [
    "from VFXTesting.lol_champ_reader import LoLChampReader\n",
    "import dotenv\n",
    "import pathlib\n",
    "import random\n",
    "import google.generativeai as genai\n",
    "\n",
    "\n",
    "media = pathlib.Path(\"Data/Videos\")\n",
    "\n",
    "LOL_CHAMP_READER = LoLChampReader()\n",
    "VIDEO_DIR = \"Data/Videos\"\n",
    "SCHEMA_PATH = \"Schemas/schema.json\"\n",
    "\n",
    "gemini_key = dotenv.get_key('.env', 'GEMINI_KEY')\n",
    "if not gemini_key:\n",
    "    raise ValueError(\"GEMINI_KEY environment variable not set.\")\n",
    "genai.configure(api_key=gemini_key)\n",
    "MODEL = \"gemini-1.5-pro-002\"\n",
    "model = genai.GenerativeModel(MODEL)"
   ],
   "outputs": [],
   "execution_count": 1
  },
  {
   "metadata": {
    "ExecuteTime": {
     "end_time": "2024-11-21T07:07:10.791729Z",
     "start_time": "2024-11-21T07:07:10.786839Z"
    }
   },
   "cell_type": "code",
   "source": [
    "import json\n",
    "\n",
    "def load_schema():\n",
    "    with open(SCHEMA_PATH, 'r') as f:\n",
    "        schema = json.load(f)\n",
    "    return schema"
   ],
   "id": "a55671a39b8c922a",
   "outputs": [],
   "execution_count": 2
  },
  {
   "metadata": {
    "ExecuteTime": {
     "end_time": "2024-11-21T07:08:10.332807Z",
     "start_time": "2024-11-21T07:08:10.326584Z"
    }
   },
   "cell_type": "code",
   "source": [
    "import os\n",
    "\n",
    "def get_random_videos(video_directory, sample_size=10):\n",
    "    all_videos = [f for f in os.listdir(video_directory) if f.endswith('.webm') and parse_video_filename(f) is not None]\n",
    "    sample_videos = random.sample(all_videos, min(sample_size, len(all_videos)))\n",
    "    return sample_videos\n",
    "\n",
    "\n",
    "def parse_video_filename(filename):\n",
    "    \"\"\"\n",
    "    Helper function to extract champion name and ability from the file name\n",
    "    \"\"\"\n",
    "    base_name = os.path.splitext(filename)[0]\n",
    "    try:\n",
    "        split = base_name.split('_')\n",
    "        champ_name = split[0]\n",
    "        ability = split[1]\n",
    "        if ability not in {'Q', 'W', 'E', 'R'}:\n",
    "            return None\n",
    "        return champ_name, ability\n",
    "    except ValueError:\n",
    "        return None"
   ],
   "id": "5d2f790a1dc39fcd",
   "outputs": [],
   "execution_count": 6
  },
  {
   "metadata": {
    "ExecuteTime": {
     "end_time": "2024-11-21T07:08:21.019568Z",
     "start_time": "2024-11-21T07:08:21.014998Z"
    }
   },
   "cell_type": "code",
   "source": [
    "import time\n",
    "from typing import Literal\n",
    "\n",
    "\n",
    "def generate_ground_truth(schema, video_file, champ_name, ability: Literal['Q', 'W', 'E', 'R'] = 'Q'):\n",
    "    \"\"\"\n",
    "    Generates ground truth data for a video using Gemini.\n",
    "    \"\"\"\n",
    "    ability_info = LOL_CHAMP_READER.get_champ_ability(champ_name, ability)\n",
    "    if not ability_info:\n",
    "        return None\n",
    "\n",
    "    ability_info_str = json.dumps(ability_info, indent=2)\n",
    "\n",
    "    video = genai.upload_file(media / video_file)\n",
    "    while video.state.name == \"PROCESSING\":\n",
    "        print(\"processing video...\")\n",
    "        time.sleep(10)\n",
    "        video = genai.get_file(video.name)\n",
    "\n",
    "    prompt = [\n",
    "        video,\n",
    "        f\"Given the contents of this video and the following JSON ability info: {ability_info_str}\",\n",
    "        f\"Reply only with the key vfx_properties information using the JSON schema {schema}\",\n",
    "    ]\n",
    "\n",
    "    response = model.generate_content(prompt)\n",
    "    return response.text"
   ],
   "id": "d7aa22455bea29a0",
   "outputs": [],
   "execution_count": 8
  },
  {
   "metadata": {
    "ExecuteTime": {
     "end_time": "2024-11-21T07:08:40.987085Z",
     "start_time": "2024-11-21T07:08:22.352155Z"
    }
   },
   "cell_type": "code",
   "source": [
    "schema = load_schema()\n",
    "videos = get_random_videos(VIDEO_DIR, sample_size=1)\n",
    "\n",
    "for video in videos:\n",
    "    try:\n",
    "        champ_name, ability = parse_video_filename(video)\n",
    "        ground_truth = generate_ground_truth(schema, video, champ_name, ability)\n",
    "        print(video, ground_truth)\n",
    "    except ValueError as e:\n",
    "        print(f\"Skipping file {video}: {e}\")"
   ],
   "id": "5d0bf3773cd20c2f",
   "outputs": [
    {
     "name": "stdout",
     "output_type": "stream",
     "text": [
      "processing video...\n",
      "Amumu_E_.webm ```json\n",
      "{\n",
      "  \"vfx_properties\": {\n",
      "    \"startTime\": 0.0,\n",
      "    \"endTime\": 0.5,\n",
      "    \"shape\": \"Circular Area of Effect\",\n",
      "    \"color\": {\n",
      "      \"Red\": \"#8B0000\",\n",
      "      \"Orange\": \"#FFA500\"\n",
      "    },\n",
      "    \"projectileCount\": 0\n",
      "  }\n",
      "}\n",
      "\n",
      "```\n"
     ]
    }
   ],
   "execution_count": 9
  },
  {
   "metadata": {},
   "cell_type": "code",
   "outputs": [],
   "execution_count": null,
   "source": "",
   "id": "d16e1d5ba2fb5d3e"
  }
 ],
 "metadata": {
  "kernelspec": {
   "display_name": "Python 3",
   "language": "python",
   "name": "python3"
  },
  "language_info": {
   "codemirror_mode": {
    "name": "ipython",
    "version": 2
   },
   "file_extension": ".py",
   "mimetype": "text/x-python",
   "name": "python",
   "nbconvert_exporter": "python",
   "pygments_lexer": "ipython2",
   "version": "2.7.6"
  }
 },
 "nbformat": 4,
 "nbformat_minor": 5
}
