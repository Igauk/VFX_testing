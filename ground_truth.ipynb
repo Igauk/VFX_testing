{
 "cells": [
  {
   "cell_type": "code",
   "id": "initial_id",
   "metadata": {
    "collapsed": true,
    "ExecuteTime": {
     "end_time": "2024-11-26T05:38:03.376102Z",
     "start_time": "2024-11-26T05:38:03.354461Z"
    }
   },
   "source": [
    "from VFXTesting.lol_champ_reader import LoLChampReader\n",
    "import dotenv\n",
    "import pathlib\n",
    "import random\n",
    "import google.generativeai as genai\n",
    "\n",
    "\n",
    "media = pathlib.Path(\"Data/Videos\")\n",
    "\n",
    "LOL_CHAMP_READER = LoLChampReader()\n",
    "VIDEO_DIR = \"Data/Videos\"\n",
    "SCHEMA_PATH = \"Schemas/vfx_properties.json\"\n",
    "\n",
    "gemini_key = dotenv.get_key('.env', 'GEMINI_KEY')\n",
    "if not gemini_key:\n",
    "    raise ValueError(\"GEMINI_KEY environment variable not set.\")\n",
    "genai.configure(api_key=gemini_key)\n",
    "MODEL = \"gemini-1.5-pro-002\"\n",
    "model = genai.GenerativeModel(MODEL)"
   ],
   "outputs": [],
   "execution_count": 6
  },
  {
   "metadata": {
    "ExecuteTime": {
     "end_time": "2024-11-26T05:41:15.927003Z",
     "start_time": "2024-11-26T05:41:15.924416Z"
    }
   },
   "cell_type": "code",
   "source": [
    "import json\n",
    "\n",
    "def load_schema(schema_path=SCHEMA_PATH):\n",
    "    with open(schema_path, 'r') as f:\n",
    "        schema = json.load(f)\n",
    "    return schema"
   ],
   "id": "a55671a39b8c922a",
   "outputs": [],
   "execution_count": 13
  },
  {
   "metadata": {
    "ExecuteTime": {
     "end_time": "2024-11-26T05:41:13.262485Z",
     "start_time": "2024-11-26T05:41:13.257864Z"
    }
   },
   "cell_type": "code",
   "source": [
    "import os\n",
    "\n",
    "def get_random_videos(video_directory, sample_size=10):\n",
    "    all_videos = [f for f in os.listdir(video_directory) if parse_video_filename(f) is not None]\n",
    "    sample_videos = random.sample(all_videos, min(sample_size, len(all_videos)))\n",
    "    return sample_videos\n",
    "\n",
    "\n",
    "def parse_video_filename(filename):\n",
    "    \"\"\"\n",
    "    Helper function to extract champion name and ability from the file name\n",
    "    \"\"\"\n",
    "    base_name = os.path.splitext(filename)[0]\n",
    "    try:\n",
    "        split = base_name.split('_')\n",
    "        champ_name = split[0]\n",
    "        ability = split[1]\n",
    "        if ability not in {'Q', 'W', 'E', 'R'}:\n",
    "            return None\n",
    "        return champ_name, ability\n",
    "    except ValueError:\n",
    "        return None"
   ],
   "id": "5d2f790a1dc39fcd",
   "outputs": [],
   "execution_count": 12
  },
  {
   "metadata": {
    "ExecuteTime": {
     "end_time": "2024-11-26T05:38:07.301420Z",
     "start_time": "2024-11-26T05:38:07.297091Z"
    }
   },
   "cell_type": "code",
   "source": [
    "import time\n",
    "from typing import Literal\n",
    "\n",
    "\n",
    "def generate_ground_truth(schema, video_file, champ_name, ability: Literal['Q', 'W', 'E', 'R'] = 'Q'):\n",
    "    \"\"\"\n",
    "    Generates ground truth data for a video using Gemini.\n",
    "    \"\"\"\n",
    "    ability_info = LOL_CHAMP_READER.get_champ_ability(champ_name, ability)\n",
    "    if not ability_info:\n",
    "        return None\n",
    "\n",
    "    ability_info_str = json.dumps(ability_info, indent=2)\n",
    "\n",
    "    video = genai.upload_file(media / video_file)\n",
    "    while video.state.name == \"PROCESSING\":\n",
    "        print(\"processing video...\")\n",
    "        time.sleep(10)\n",
    "        video = genai.get_file(video.name)\n",
    "\n",
    "    prompt = [\n",
    "        video,\n",
    "        f\"Given the contents of this video and the following JSON ability info: {ability_info_str}\",\n",
    "        f\"Reply only with the key information using the JSON schema {schema}\",\n",
    "    ]\n",
    "\n",
    "    response = model.generate_content(prompt)\n",
    "    return response.text"
   ],
   "id": "d7aa22455bea29a0",
   "outputs": [],
   "execution_count": 9
  },
  {
   "metadata": {
    "ExecuteTime": {
     "end_time": "2024-11-26T18:49:38.690117Z",
     "start_time": "2024-11-26T18:49:22.171028Z"
    }
   },
   "cell_type": "code",
   "source": [
    "schema = load_schema(\"Schemas/key_video_moments.json\")\n",
    "videos = get_random_videos(VIDEO_DIR, sample_size=1)\n",
    "\n",
    "for video in videos:\n",
    "    video = \"Blitzcrank_E.webm\" # TODO: REMOVE\n",
    "    try:\n",
    "        champ_name, ability = parse_video_filename(video)\n",
    "        ground_truth = generate_ground_truth(schema, video, champ_name, ability)\n",
    "        print(video, ground_truth)\n",
    "    except ValueError as e:\n",
    "        print(f\"Skipping file {video}: {e}\")"
   ],
   "id": "5d0bf3773cd20c2f",
   "outputs": [
    {
     "name": "stdout",
     "output_type": "stream",
     "text": [
      "processing video...\n",
      "Blitzcrank_E.webm ```json\n",
      "{'key_video_moment': [{'startTime': 0.0, 'endTime': 0.1, 'vfx_description': 'Blitzcrank's right arm glows yellow and sparks emanate. He winds it up in preparation for an enhanced auto attack.', 'audio_description': ''}]}\n",
      "```\n"
     ]
    }
   ],
   "execution_count": 20
  },
  {
   "metadata": {},
   "cell_type": "markdown",
   "source": [
    "### VFX Properties evaluation\n",
    "Get a collection of 10 random videos and manually assess them."
   ],
   "id": "70964ab408b03aa9"
  },
  {
   "metadata": {},
   "cell_type": "markdown",
   "source": [
    "### Hallucination Evaluation\n",
    "1. Evaluate Gemini on itself in **key video moments schema** by cutting the videos into segments and seeing if Gemini can confirm the visual descriptions that it has itself given. **Hallucination evaluation**\n",
    "2. Combine a video with an incorrect ability JSON and see if there are mentions of the incorrect ability or champion\n",
    "3. Combine a video with anb incorrect ability JSON and ask if the two are different\n",
    "4. Use the **timing schema** to generate start and stop times using Gemini, then compare to the \"precise\" sound timings\n",
    "5. Color hallucination manual inspection with color picker for **vfx properties schema**\n",
    "6. Reporting any other hallucinations seen along the way"
   ],
   "id": "f8b8d2be4db3cbca"
  },
  {
   "metadata": {},
   "cell_type": "markdown",
   "source": "",
   "id": "7dfdd9f2341f6161"
  }
 ],
 "metadata": {
  "kernelspec": {
   "display_name": "Python 3",
   "language": "python",
   "name": "python3"
  },
  "language_info": {
   "codemirror_mode": {
    "name": "ipython",
    "version": 2
   },
   "file_extension": ".py",
   "mimetype": "text/x-python",
   "name": "python",
   "nbconvert_exporter": "python",
   "pygments_lexer": "ipython2",
   "version": "2.7.6"
  }
 },
 "nbformat": 4,
 "nbformat_minor": 5
}
